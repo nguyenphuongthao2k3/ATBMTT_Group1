{
 "cells": [
  {
   "cell_type": "code",
   "execution_count": 1,
   "id": "70002f06",
   "metadata": {},
   "outputs": [],
   "source": [
    "import hashlib\n",
    "import random\n",
    "from math import gcd"
   ]
  },
  {
   "cell_type": "code",
   "execution_count": 2,
   "id": "1646f94e",
   "metadata": {},
   "outputs": [],
   "source": [
    "def is_prime(num):\n",
    "    \"\"\"Kiểm tra xem một số có phải là số nguyên tố hay không.\"\"\"\n",
    "    if num < 2:\n",
    "        return False\n",
    "    for i in range(2, int(num ** 0.5) + 1):\n",
    "        if num % i == 0:\n",
    "            return False\n",
    "    return True"
   ]
  },
  {
   "cell_type": "code",
   "execution_count": 3,
   "id": "9a812e61",
   "metadata": {},
   "outputs": [],
   "source": [
    "def modinv(a, m):\n",
    "    \"\"\"Tìm nghịch đảo modulo.\"\"\"\n",
    "    m0, x0, x1 = m, 0, 1\n",
    "    while a > 1:\n",
    "        q = a // m\n",
    "        m, a = a % m, m\n",
    "        x0, x1 = x1 - q * x0, x0\n",
    "    return x1 + m0 if x1 < 0 else x1"
   ]
  },
  {
   "cell_type": "code",
   "execution_count": 4,
   "id": "287930d3",
   "metadata": {},
   "outputs": [],
   "source": [
    "def generate_large_prime():\n",
    "    \"\"\"Sinh một số nguyên tố lớn.\"\"\"\n",
    "    while True:\n",
    "        num = random.randint(10**14, 10**15)\n",
    "        if is_prime(num):\n",
    "            return num"
   ]
  },
  {
   "cell_type": "code",
   "execution_count": 5,
   "id": "2b7c51b3",
   "metadata": {},
   "outputs": [],
   "source": [
    "def generate_keypair():\n",
    "    \"\"\"Sinh khoá công khai và bí mật.\"\"\"\n",
    "    p = generate_large_prime()\n",
    "    q = generate_large_prime()\n",
    "    n = p * q\n",
    "    phi = (p - 1) * (q - 1)\n",
    "    # Chọn số e\n",
    "    e = random.randint(2, phi - 1)\n",
    "    while gcd(e, phi) != 1:\n",
    "        e = random.randint(2, phi - 1)\n",
    "\n",
    "    # Sử dụng thuật toán Euclide mở rộng để tính số d\n",
    "    d = modinv(e, phi)\n",
    "\n",
    "    return ((n, e), (n, d))"
   ]
  },
  {
   "cell_type": "code",
   "execution_count": 6,
   "id": "8d7d9e9a",
   "metadata": {},
   "outputs": [],
   "source": [
    "def hash_message(message):\n",
    "    \"\"\"Hàm băm văn bản sử dụng SHA-1 và chỉ lấy 16 ký tự đầu tiên.\"\"\"\n",
    "    hashed_message = hashlib.sha256(str(message).encode()).hexdigest()\n",
    "    return int(hashed_message[:8], 16)"
   ]
  },
  {
   "cell_type": "code",
   "execution_count": 7,
   "id": "b26a3d7d",
   "metadata": {},
   "outputs": [],
   "source": [
    "def sign(message, private_key):\n",
    "    \"\"\"Ký bản tin.\"\"\"\n",
    "    n, d = private_key\n",
    "    hashed_message = hash_message(message)\n",
    "    print('1',hashed_message)\n",
    "    signature = pow(hashed_message, d, n)\n",
    "    return signature"
   ]
  },
  {
   "cell_type": "code",
   "execution_count": 8,
   "id": "d904ce9d",
   "metadata": {},
   "outputs": [],
   "source": [
    "def verify(message, signature, public_key):\n",
    "    \"\"\"Kiểm thử chữ ký.\"\"\"\n",
    "    n, e = public_key\n",
    "\n",
    "    decrypted_signature = pow(signature, e, n)\n",
    "    print(f'd1 {decrypted_signature}')\n",
    "    # Hash the original message for comparison\n",
    "    hashed_message = hash_message(message)\n",
    "    print(f's2: {hashed_message}')\n",
    "    return decrypted_signature == hashed_message"
   ]
  },
  {
   "cell_type": "code",
   "execution_count": 9,
   "id": "51a762c4",
   "metadata": {},
   "outputs": [],
   "source": [
    "def decrypt(ciphertext, public_key):\n",
    "    \"\"\"Giải mã bản tin.\"\"\"\n",
    "    n, e = public_key\n",
    "    plaintext = pow(ciphertext, e, n)\n",
    "    return plaintext"
   ]
  },
  {
   "cell_type": "code",
   "execution_count": 10,
   "id": "b57c1ea2",
   "metadata": {},
   "outputs": [
    {
     "name": "stdout",
     "output_type": "stream",
     "text": [
      "Public Key: (275513985572514157906758893003, 248820035581425873180811799597)\n",
      "Private Key: (275513985572514157906758893003, 72047957351489323112785694117)\n",
      "Original Message: 123\n",
      "1 2791679065\n",
      "Signature: 249175549025996059270270424445\n",
      "d1 2791679065\n",
      "s2: 2791679065\n",
      "Verification Result: True\n",
      "Decrypted Message: 2791679065\n"
     ]
    }
   ],
   "source": [
    "# Example usage\n",
    "if __name__ == \"__main__\":\n",
    "    # Bước 1: Sinh khoá\n",
    "    public_key, private_key = generate_keypair()\n",
    "    print(\"Public Key:\", public_key)\n",
    "    print(\"Private Key:\", private_key)\n",
    "\n",
    "    # Bước 2: Ký và kiểm thử chữ ký\n",
    "   # message = random.randint(1, public_key[0] - 1)\n",
    "    message = 123\n",
    "    print(\"Original Message:\", message)\n",
    "\n",
    "    signature = sign(message, private_key)\n",
    "    print(\"Signature:\", signature)\n",
    "    verification_result = verify(message, signature, public_key)\n",
    "    print(\"Verification Result:\", verification_result)\n",
    "\n",
    "    # Bước 3: Giải mã khi xác thực thành công\n",
    "    if verification_result:\n",
    "        decrypted_message = decrypt(signature, public_key)\n",
    "        print(\"Decrypted Message:\", decrypted_message)"
   ]
  }
 ],
 "metadata": {
  "kernelspec": {
   "display_name": "Python 3 (ipykernel)",
   "language": "python",
   "name": "python3"
  },
  "language_info": {
   "codemirror_mode": {
    "name": "ipython",
    "version": 3
   },
   "file_extension": ".py",
   "mimetype": "text/x-python",
   "name": "python",
   "nbconvert_exporter": "python",
   "pygments_lexer": "ipython3",
   "version": "3.11.5"
  }
 },
 "nbformat": 4,
 "nbformat_minor": 5
}
